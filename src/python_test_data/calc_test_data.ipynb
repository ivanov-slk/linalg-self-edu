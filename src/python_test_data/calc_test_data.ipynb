{
 "cells": [
  {
   "cell_type": "code",
   "execution_count": 16,
   "metadata": {
    "tags": []
   },
   "outputs": [
    {
     "output_type": "stream",
     "name": "stdout",
     "text": "2.2.0\n"
    }
   ],
   "source": [
    "import tensorflow as tf\n",
    "\n",
    "print(tf.__version__)"
   ]
  },
  {
   "cell_type": "markdown",
   "metadata": {},
   "source": [
    "### (AB)^T = A^T * B^T# (AB)^T = A^T * B^T"
   ]
  },
  {
   "cell_type": "code",
   "execution_count": 9,
   "metadata": {},
   "outputs": [],
   "source": [
    "a = tf.constant([1.2, 3.4, -5.7, -5.3, 8.7, 4.127], shape=(2, 3))\n",
    "\n",
    "b = tf.constant([34.5, 234.34, 876.43, -5.1243, -675.234, 54.2], shape=(3, 2))"
   ]
  },
  {
   "cell_type": "code",
   "execution_count": 10,
   "metadata": {
    "tags": []
   },
   "outputs": [
    {
     "output_type": "stream",
     "name": "stdout",
     "text": "tf.Tensor(\n[[ 6870.0957    4655.4004  ]\n [  -45.154602 -1062.9001  ]], shape=(2, 2), dtype=float32)\ntf.Tensor(\n[[ 6870.0957    4655.4004  ]\n [  -45.154602 -1062.9001  ]], shape=(2, 2), dtype=float32)\n"
    }
   ],
   "source": [
    "abt = tf.transpose(tf.matmul(a, b))\n",
    "atbt = tf.matmul(tf.transpose(b), tf.transpose(a))\n",
    "print(abt)\n",
    "print(atbt)"
   ]
  },
  {
   "cell_type": "markdown",
   "metadata": {},
   "source": [
    "### Norms"
   ]
  },
  {
   "cell_type": "code",
   "execution_count": 11,
   "metadata": {
    "tags": []
   },
   "outputs": [
    {
     "output_type": "stream",
     "name": "stdout",
     "text": "tf.Tensor(12.1, shape=(), dtype=float32)\ntf.Tensor(12.895818, shape=(), dtype=float32)\n"
    }
   ],
   "source": [
    "print(tf.norm(a, ord=1, axis=(0, 1)))\n",
    "print(tf.norm(a, ord='fro', axis=(0, 1)))"
   ]
  },
  {
   "cell_type": "code",
   "execution_count": 12,
   "metadata": {
    "tags": []
   },
   "outputs": [
    {
     "output_type": "stream",
     "name": "stdout",
     "text": "tf.Tensor(28.427, shape=(), dtype=float32)\ntf.Tensor(12.895818, shape=(), dtype=float32)\n"
    }
   ],
   "source": [
    "a1 = tf.constant([1.2, 3.4, -5.7, -5.3, 8.7, 4.127], shape=(1, 6))\n",
    "print(tf.norm(a1, ord=1))\n",
    "print(tf.norm(a1))"
   ]
  },
  {
   "cell_type": "code",
   "execution_count": 13,
   "metadata": {
    "tags": []
   },
   "outputs": [
    {
     "output_type": "stream",
     "name": "stdout",
     "text": "tf.Tensor(1879.8284, shape=(), dtype=float32)\ntf.Tensor(1132.7577, shape=(), dtype=float32)\n"
    }
   ],
   "source": [
    "b1 = tf.constant([34.5, 234.34, 876.43, -5.1243, -675.234, 54.2], shape=(6, 1))\n",
    "# print(tf.norm(b, ord=1, axis=(0, 1)))\n",
    "# print(tf.norm(b, ord='fro', axis=(0, 1)))\n",
    "print(tf.norm(b1, ord=1))\n",
    "print(tf.norm(b1))"
   ]
  },
  {
   "cell_type": "code",
   "execution_count": 33,
   "metadata": {
    "tags": []
   },
   "outputs": [
    {
     "output_type": "stream",
     "name": "stdout",
     "text": "tf.Tensor(22365.152, shape=(), dtype=float32)\n"
    }
   ],
   "source": [
    "print(tf.norm(tf.constant([10000., 10001., 10002.,10003.,10004.])))"
   ]
  },
  {
   "cell_type": "code",
   "execution_count": 25,
   "metadata": {
    "tags": []
   },
   "outputs": [
    {
     "output_type": "stream",
     "name": "stdout",
     "text": "tf.Tensor(\n[[ 1.  2.  3.  4.]\n [ 5.  6.  7.  8.]\n [ 9. 10. 11. 12.]\n [13. 14. 15. 16.]], shape=(4, 4), dtype=float32)\ntf.Tensor(\n[[ -1.  -2.  -3.]\n [ -4.  -5.  -6.]\n [ -7.  -8.  -9.]\n [-10. -11. -12.]], shape=(4, 3), dtype=float32)\n\ntf.Tensor(\n[[ -70.  -80.  -90.]\n [-158. -184. -210.]\n [-246. -288. -330.]\n [-334. -392. -450.]], shape=(4, 3), dtype=float32)\n"
    }
   ],
   "source": [
    "a2 = tf.constant([1., 2., 3., 4., 5., 6., 7., 8., 9., 10., 11., 12., 13., 14., 15., 16.], shape=(4, 4))\n",
    "b2 = tf.constant([-1., -2., -3., -4., -5., -6., -7., -8., -9., -10., -11., -12.], shape=(4, 3))\n",
    "print(a2)\n",
    "print(b2)\n",
    "print()\n",
    "print(tf.matmul(a2, b2))"
   ]
  },
  {
   "cell_type": "markdown",
   "metadata": {},
   "source": [
    "### QR Decomposition"
   ]
  },
  {
   "cell_type": "markdown",
   "metadata": {},
   "source": [
    "#### square matrix 3x3"
   ]
  },
  {
   "cell_type": "code",
   "execution_count": 31,
   "metadata": {
    "tags": []
   },
   "outputs": [
    {
     "output_type": "stream",
     "name": "stdout",
     "text": "Qr(q=<tf.Tensor: shape=(3, 3), dtype=float64, numpy=\narray([[-0.85714286,  0.39428571,  0.33142857],\n       [-0.42857143, -0.90285714, -0.03428571],\n       [ 0.28571429, -0.17142857,  0.94285714]])>, r=<tf.Tensor: shape=(3, 3), dtype=float64, numpy=\narray([[ -14.,  -21.,   14.],\n       [   0., -175.,   70.],\n       [   0.,    0.,  -35.]])>)\n"
    }
   ],
   "source": [
    "qr_data = tf.constant([12, -51, 4, 6, 167, -68, -4, 24, -41], shape=(3, 3))\n",
    "qr_data = tf.cast(qr_data, tf.float64)\n",
    "print(tf.linalg.qr(qr_data, 1))"
   ]
  },
  {
   "cell_type": "markdown",
   "metadata": {},
   "source": [
    "Non-square matrix 4x3"
   ]
  },
  {
   "cell_type": "code",
   "execution_count": 32,
   "metadata": {
    "tags": []
   },
   "outputs": [
    {
     "output_type": "stream",
     "name": "stdout",
     "text": "tf.Tensor(\n[[ 12. -51.   4.]\n [  6. 167. -68.]\n [ -4.  24. -41.]\n [ 10. -24.   8.]], shape=(4, 3), dtype=float64)\nQr(q=<tf.Tensor: shape=(4, 4), dtype=float64, numpy=\narray([[-0.69748583,  0.29906048, -0.36166072, -0.54155135],\n       [-0.34874292, -0.93281644,  0.02962909, -0.08575542],\n       [ 0.23249528, -0.13904489, -0.93080449,  0.24538842],\n       [-0.58123819,  0.14519933,  0.04389362,  0.79947024]])>, r=<tf.Tensor: shape=(4, 3), dtype=float64, numpy=\narray([[ -17.20465053,   -3.13868625,    6.74236305],\n       [   0.        , -177.8542905 ,   71.4901946 ],\n       [   0.        ,    0.        ,   35.05271198],\n       [   0.        ,    0.        ,    0.        ]])>)\ntf.Tensor(\n[[ 12. -51.   4.]\n [  6. 167. -68.]\n [ -4.  24. -41.]\n [ 10. -24.   8.]], shape=(4, 3), dtype=float64)\n"
    }
   ],
   "source": [
    "qr_data_r = tf.constant([12, -51, 4, 6, 167, -68, -4, 24, -41, 10, -24, 8],\n",
    "                        shape=(4, 3))\n",
    "qr_data_r = tf.cast(qr_data_r, tf.float64)\n",
    "print(qr_data_r)\n",
    "qr_result = tf.linalg.qr(qr_data_r, 1)\n",
    "print(qr_result)\n",
    "print(tf.matmul(qr_result[0], qr_result[1])) #rounded"
   ]
  },
  {
   "cell_type": "markdown",
   "metadata": {},
   "source": [
    "Non-square matrix 3x4"
   ]
  },
  {
   "cell_type": "code",
   "execution_count": 28,
   "metadata": {
    "tags": []
   },
   "outputs": [
    {
     "output_type": "stream",
     "name": "stdout",
     "text": "tf.Tensor(\n[[ 12. -51.   4.   6.]\n [167. -68.  -4.  24.]\n [-41.  10. -24.   8.]], shape=(3, 4), dtype=float64)\nQr(q=<tf.Tensor: shape=(3, 3), dtype=float64, numpy=\narray([[-0.06961466,  0.9878042 , -0.13927189],\n       [-0.96880397, -0.03365772,  0.24553211],\n       [ 0.23785008,  0.1520198 ,  0.95933171]])>, r=<tf.Tensor: shape=(3, 4), dtype=float64, numpy=\narray([[-172.37749273,   71.80751851,   -2.11164459,  -21.7661827 ],\n       [   0.        ,  -46.56909152,    0.43737254,    6.33519837],\n       [   0.        ,    0.        ,  -24.56317696,   12.73179297]])>)\n"
    }
   ],
   "source": [
    "qr_data_c = tf.constant([12, -51, 4, 6, 167, -68, -4, 24, -41, 10, -24, 8],\n",
    "                        shape=(3, 4))\n",
    "qr_data_c = tf.cast(qr_data_c, tf.float64)\n",
    "print(qr_data_c)\n",
    "print(tf.linalg.qr(qr_data_c, 1))"
   ]
  },
  {
   "cell_type": "code",
   "execution_count": null,
   "metadata": {},
   "outputs": [],
   "source": []
  },
  {
   "cell_type": "code",
   "execution_count": 7,
   "metadata": {
    "tags": []
   },
   "outputs": [
    {
     "output_type": "stream",
     "name": "stdout",
     "text": "[[-0.05747485 -0.01618887 -0.81502153 -0.57634579]\n [ 0.12452884 -0.98526564 -0.06030549  0.10053572]\n [ 0.31611168  0.15087768 -0.55752515  0.75264536]\n [-0.93875589 -0.0789016  -0.14583849  0.30206465]]\n[[-104.39348639  -95.28372262  -65.63627902  -28.53626316]\n [  -0.          -32.34211193   67.93214396  -13.26316034]\n [   0.           -0.           97.75532054   -7.18139135]\n [   0.            0.            0.          -88.9954936 ]]\nSum:  1.9095836023552692e-13\n"
    }
   ],
   "source": [
    "import numpy as np\n",
    "np.set_printoptions(precision = 8, suppress=True)\n",
    "\n",
    "def householder(A):\n",
    "    \"\"\"     \n",
    "        Args:\n",
    "        -   A: A n-d numpy array of shape (n,n) \n",
    "\n",
    "        Returns:\n",
    "        -   P: A n-d numpy array of shape (n,n), representing \n",
    "                a Householder matrix\n",
    "    \"\"\"\n",
    "    n, _ = A.shape\n",
    "    x = A[:,0].reshape(n,1)\n",
    "    e1 = np.zeros((n,1))\n",
    "    e1[0] = 1.\n",
    "    v = np.sign(x[0]) * np.linalg.norm(x) * e1 + x\n",
    "    # divide by 2-norm squared\n",
    "    P = np.eye(n) - 2 * v.dot(v.T)/v.T.dot(v)\n",
    "    # print('__________________________')\n",
    "    # print(P)\n",
    "    # print('_______________________')\n",
    "    return P\n",
    "\n",
    "def qr_decomposition(A):\n",
    "    \"\"\" \n",
    "    Form the QR decomposition of A by using\n",
    "    Householder matrices.\n",
    "    \"\"\"\n",
    "    n, _ = A.shape\n",
    "    P = np.zeros((n-1,n,n))\n",
    "    R = A\n",
    "    for i in range(n-1):\n",
    "        # print('>>>>>>>>>>>>>>>>>>>>>>>>>>>>>>>>>>>>>>>>>>>>>>>>>>')\n",
    "        P[i] = np.eye(n)\n",
    "        # modify lower-right block\n",
    "        P[i,i:,i:] = householder(R[i:,i:])\n",
    "        # print(f'On iter {i}', np.round(P[i].dot(R), 1))\n",
    "        R = P[i].dot(R)\n",
    "        # print('++++++++++++++++++++++++++++++++++++++++++++++++')\n",
    "        # print(R)\n",
    "        # print('-------------')\n",
    "        # print(P[i])\n",
    "        # print('<<<<<<<<<<<<<<<<<<<<<<<<<<<<<<<<<<<<<<<<<<<<<<<<<<\\n\\n')\n",
    "\n",
    "    Q_T = np.eye(n)\n",
    "    for i in range(n-1):\n",
    "        # print('>>>>>>>>>>>>>>>>>>>>>>>>>>>>>>>>>>>>>>>>>>>>>')\n",
    "        # print(Q_T)\n",
    "        Q_T = P[i].dot(Q_T)\n",
    "        # print(Q_T)\n",
    "        # print('<<<<<<<<<<<<<<<<<<<<<<<<<<<<<<<<<<<<<<<<<<<<<')\n",
    "        # print()\n",
    "\n",
    "    Q = Q_T.T\n",
    "    return Q, R\n",
    "\n",
    "def qr_demo():\n",
    "    \"\"\" \"\"\"\n",
    "    # n = 4\n",
    "    # A = np.random.randint(-100,100,(n,n))\n",
    "    A = np.array([\n",
    "        [6, 6, -77, 59],\n",
    "        [-13, 20, -81, 1],\n",
    "        [-33, -35, -65, -74],\n",
    "        [98, 92, 42, 2]\n",
    "    ])\n",
    "    # A = np.array([\n",
    "    #     [12, -51, 4], \n",
    "    #     [6, 167, -68], \n",
    "    #     [-4, 24, -41], \n",
    "    #     [10, -24, 8]\n",
    "    # ])\n",
    "\n",
    "    Q,R = qr_decomposition(A)\n",
    "    print(Q)\n",
    "    print(R)\n",
    "    QR = Q.dot(R)\n",
    "    print('Sum: ', np.absolute(A - QR).sum())\n",
    "    assert( (A - QR).sum() < 1e-10 )\n",
    "\n",
    "qr_demo()\n"
   ]
  },
  {
   "cell_type": "code",
   "execution_count": 13,
   "metadata": {},
   "outputs": [
    {
     "output_type": "execute_result",
     "data": {
      "text/plain": "289"
     },
     "metadata": {},
     "execution_count": 13
    }
   ],
   "source": []
  },
  {
   "cell_type": "markdown",
   "metadata": {},
   "source": [
    "### Eigendecomposition"
   ]
  },
  {
   "cell_type": "code",
   "execution_count": 19,
   "metadata": {
    "tags": []
   },
   "outputs": [
    {
     "output_type": "stream",
     "name": "stdout",
     "text": "tf.Tensor([-7.0079317  7.0359507 10.971983 ], shape=(3,), dtype=float32)\n======================\ntf.Tensor(\n[[ 0.684154    0.62878436  0.36954555]\n [-0.6139104   0.22292727  0.75724334]\n [-0.39376095  0.74493915 -0.53853375]], shape=(3, 3), dtype=float32)\n"
    }
   ],
   "source": [
    "a = tf.constant(\n",
    "    [1., 7., 3., 7., 4., -5., 3., -5., 6],\n",
    "    shape=(3, 3)\n",
    ")\n",
    "val, vec = tf.linalg.eigh(a)\n",
    "print(val)\n",
    "print('======================')\n",
    "print(vec)"
   ]
  },
  {
   "cell_type": "code",
   "execution_count": 59,
   "metadata": {
    "tags": []
   },
   "outputs": [
    {
     "output_type": "stream",
     "name": "stdout",
     "text": ">>>>>>>>>>>>>>>>>>>>>>>>>>>>>>>>\n[[ 1.  7.  3.]\n [ 7.  4. -5.]\n [ 3. -5.  6.]]\n------------------------\n[[ 0.36954564 -0.62879238 -0.6841463 ]\n [ 0.75724338 -0.2229199   0.61391301]\n [-0.53853365 -0.74493413  0.39376979]]\n-----------------------\n[[10.97198268 -0.          0.        ]\n [ 0.          7.03594585 -0.00016823]\n [ 0.         -0.00016823 -7.00792852]]\n\n<<<<<<<<<<<<<<<<<<<<<<<<<<<<<<<<<<<<<<<<<\n\ntf.Tensor([-7.0079317  7.0359507 10.971983 ], shape=(3,), dtype=float32)\n======================\ntf.Tensor(\n[[ 0.684154    0.62878436  0.36954555]\n [-0.6139104   0.22292727  0.75724334]\n [-0.39376095  0.74493915 -0.53853375]], shape=(3, 3), dtype=float32)\n"
    }
   ],
   "source": [
    "def manual_eigendecomposition(mat):\n",
    "    q_s = []\n",
    "    temp_mat = mat.copy()\n",
    "    for i in range(3000):\n",
    "        q, r = qr_decomposition(temp_mat)\n",
    "        temp_mat = r.dot(q)\n",
    "        q_s.append(q)\n",
    "\n",
    "    final_q = np.eye(mat.shape[0])\n",
    "    for q in q_s:\n",
    "        final_q = final_q.dot(q)\n",
    "    \n",
    "    val = final_q.dot(temp_mat).dot(final_q.T)\n",
    "    print('>>>>>>>>>>>>>>>>>>>>>>>>>>>>>>>>')\n",
    "    print(val)\n",
    "    print('------------------------')\n",
    "    print(final_q)\n",
    "    print('-----------------------')\n",
    "    print(temp_mat)\n",
    "\n",
    "testable = np.array(\n",
    "    [[1., 7., 3.],\n",
    "    [7., 4., -5.],\n",
    "    [3., -5., 6.]]\n",
    ")\n",
    "manual_eigendecomposition(testable)\n",
    "print('\\n<<<<<<<<<<<<<<<<<<<<<<<<<<<<<<<<<<<<<<<<<\\n')\n",
    "a = tf.constant(\n",
    "    [1., 7., 3.,\n",
    "    7., 4., -5.,\n",
    "    3., -5., 6.],\n",
    "    shape=(3, 3)\n",
    ")\n",
    "val, vec = tf.linalg.eigh(a)\n",
    "print(val)\n",
    "print('======================')\n",
    "print(vec)"
   ]
  },
  {
   "cell_type": "code",
   "execution_count": 60,
   "metadata": {},
   "outputs": [
    {
     "output_type": "execute_result",
     "data": {
      "text/plain": "(array([-7.00792852,  7.03594585, 10.97198268]),\n array([[ 0.68415383, -0.62878419, -0.36954564],\n        [-0.61391034, -0.22292725, -0.75724338],\n        [-0.39376087, -0.74493885,  0.53853365]]))"
     },
     "metadata": {},
     "execution_count": 60
    }
   ],
   "source": [
    "np.linalg.eig(testable)"
   ]
  },
  {
   "cell_type": "code",
   "execution_count": 61,
   "metadata": {
    "tags": []
   },
   "outputs": [
    {
     "output_type": "stream",
     "name": "stdout",
     "text": ">>>>>>>>>>>>>>>>>>>>>>>>>>>>>>>>\n[[52. 30. 49. 28.]\n [30. 50.  8. 44.]\n [49.  8. 46. 16.]\n [28. 44. 16. 22.]]\n------------------------\n[[ 0.60945955 -0.29991942 -0.09987744 -0.72707077]\n [ 0.48785283  0.65199675  0.57724915  0.06068999]\n [ 0.4665778  -0.60196233  0.22156327  0.60897966]\n [ 0.41576896  0.35012847 -0.77956246  0.31117293]]\n-----------------------\n[[132.62787533  -0.           0.          -0.        ]\n [  0.          52.4423       0.           0.        ]\n [  0.           0.         -11.54113078   0.        ]\n [ -0.           0.           0.          -3.52904455]]\n\n<<<<<<<<<<<<<<<<<<<<<<<<<<<<<<<<<<<<<<<<<\n\ntf.Tensor([-11.541134   -3.5290391  52.442276  132.6279   ], shape=(4,), dtype=float32)\n======================\ntf.Tensor(\n[[-0.09987721  0.72707087 -0.2999193   0.6094596 ]\n [ 0.57724917 -0.06069009  0.6519968   0.48785287]\n [ 0.22156304 -0.60897964 -0.60196227  0.46657795]\n [-0.7795626  -0.31117266  0.35012853  0.41576898]], shape=(4, 4), dtype=float32)\n"
    }
   ],
   "source": [
    "testable1 = np.array(\n",
    "    [[52, 30, 49, 28],\n",
    "    [30, 50, 8, 44],\n",
    "    [49, 8, 46, 16],\n",
    "    [28, 44, 16, 22]]\n",
    ")\n",
    "manual_eigendecomposition(testable1)\n",
    "print('\\n<<<<<<<<<<<<<<<<<<<<<<<<<<<<<<<<<<<<<<<<<\\n')\n",
    "a1 = tf.constant(\n",
    "    [52., 30., 49., 28.,\n",
    "    30., 50., 8., 44.,\n",
    "    49., 8., 46., 16.,\n",
    "    28., 44., 16., 22.],\n",
    "    shape=(4, 4)\n",
    ")\n",
    "val, vec = tf.linalg.eigh(tf.cast(a1, tf.float32))\n",
    "print(val)\n",
    "print('======================')\n",
    "print(vec)"
   ]
  },
  {
   "cell_type": "code",
   "execution_count": 62,
   "metadata": {},
   "outputs": [
    {
     "output_type": "execute_result",
     "data": {
      "text/plain": "(array([132.62787533,  52.4423    ,  -3.52904455, -11.54113078]),\n array([[-0.60945955, -0.29991942,  0.72707077,  0.09987744],\n        [-0.48785283,  0.65199675, -0.06068999, -0.57724915],\n        [-0.4665778 , -0.60196233, -0.60897966, -0.22156327],\n        [-0.41576896,  0.35012847, -0.31117293,  0.77956246]]))"
     },
     "metadata": {},
     "execution_count": 62
    }
   ],
   "source": [
    "np.linalg.eig(testable1)"
   ]
  },
  {
   "cell_type": "markdown",
   "metadata": {},
   "source": [
    "### Matrix inverse"
   ]
  },
  {
   "cell_type": "code",
   "execution_count": 63,
   "metadata": {},
   "outputs": [
    {
     "output_type": "execute_result",
     "data": {
      "text/plain": "<tf.Tensor: shape=(3, 3), dtype=float32, numpy=\narray([[ 0.00184843,  0.10536044,  0.08687616],\n       [ 0.10536044,  0.00554529, -0.04805916],\n       [ 0.08687616, -0.04805915,  0.0831793 ]], dtype=float32)>"
     },
     "metadata": {},
     "execution_count": 63
    }
   ],
   "source": [
    "tf.linalg.inv(a)"
   ]
  },
  {
   "cell_type": "code",
   "execution_count": 64,
   "metadata": {},
   "outputs": [
    {
     "output_type": "execute_result",
     "data": {
      "text/plain": "array([[ 0.00184843,  0.10536044,  0.08687616],\n       [ 0.10536044,  0.00554529, -0.04805915],\n       [ 0.08687616, -0.04805915,  0.0831793 ]])"
     },
     "metadata": {},
     "execution_count": 64
    }
   ],
   "source": [
    "\n",
    "np.linalg.inv(testable)"
   ]
  },
  {
   "cell_type": "code",
   "execution_count": 65,
   "metadata": {},
   "outputs": [
    {
     "output_type": "execute_result",
     "data": {
      "text/plain": "<tf.Tensor: shape=(4, 4), dtype=float32, numpy=\narray([[-0.14614311,  0.01601221,  0.13296902,  0.05727113],\n       [ 0.0160122 , -0.02001525, -0.02732241,  0.03952217],\n       [ 0.13296904, -0.02732241, -0.1007893 , -0.04128718],\n       [ 0.05727114,  0.03952217, -0.04128718, -0.0764533 ]],\n      dtype=float32)>"
     },
     "metadata": {},
     "execution_count": 65
    }
   ],
   "source": [
    "tf.linalg.inv(a1)"
   ]
  },
  {
   "cell_type": "code",
   "execution_count": 66,
   "metadata": {},
   "outputs": [
    {
     "output_type": "execute_result",
     "data": {
      "text/plain": "array([[-0.14614309,  0.0160122 ,  0.13296903,  0.05727115],\n       [ 0.0160122 , -0.02001525, -0.0273224 ,  0.03952218],\n       [ 0.13296903, -0.0273224 , -0.10078931, -0.04128719],\n       [ 0.05727115,  0.03952218, -0.04128719, -0.07645331]])"
     },
     "metadata": {},
     "execution_count": 66
    }
   ],
   "source": [
    "np.linalg.inv(testable1)\n"
   ]
  },
  {
   "cell_type": "code",
   "execution_count": null,
   "metadata": {},
   "outputs": [],
   "source": []
  },
  {
   "cell_type": "markdown",
   "metadata": {},
   "source": [
    "### Singular value decomposition"
   ]
  },
  {
   "cell_type": "code",
   "execution_count": 5,
   "metadata": {
    "tags": []
   },
   "outputs": [
    {
     "output_type": "stream",
     "name": "stdout",
     "text": "[[11.97530087  0.          0.        ]\n [ 0.          5.56776436  0.        ]\n [ 0.          0.          3.25456128]]\n"
    },
    {
     "output_type": "execute_result",
     "data": {
      "text/plain": "array([[ 4.,  1.,  3.],\n       [ 8.,  7., -2.],\n       [ 1.,  5.,  4.]])"
     },
     "metadata": {},
     "execution_count": 5
    }
   ],
   "source": [
    "import numpy as np\n",
    "\n",
    "data = np.array(\n",
    "    [[4, 1, 3],\n",
    "     [8, 7, -2],\n",
    "     [1, 5, 4]])\n",
    "\n",
    "u, s, v = np.linalg.svd(data)\n",
    "u.dot(np.diag(s)).dot(v)"
   ]
  },
  {
   "cell_type": "code",
   "execution_count": 6,
   "metadata": {},
   "outputs": [
    {
     "output_type": "execute_result",
     "data": {
      "text/plain": "array([[-0.24178682, -0.43982799,  0.06080681, -0.31973219,  0.06206665,\n        -0.22025693, -0.33950981,  0.14815884, -0.60874376,  0.01130307,\n        -0.15345069, -0.24153087],\n       [-0.34213293,  0.09444072,  0.0816569 ,  0.34586901, -0.36015158,\n        -0.27319675,  0.41846507, -0.04767541, -0.02082671, -0.17698976,\n        -0.34164882, -0.46638842],\n       [-0.32670435, -0.14215117,  0.3833144 , -0.36612828, -0.18912883,\n         0.05413965,  0.19808108, -0.51786167,  0.00869364, -0.30482018,\n         0.30783747,  0.24125711],\n       [-0.20176705, -0.54608843, -0.05395086, -0.04345691,  0.2643722 ,\n         0.30528397,  0.43324672,  0.05827727,  0.21800947,  0.27331256,\n        -0.38961691,  0.16750864],\n       [-0.33427571,  0.25324027,  0.30391666, -0.23865279,  0.43617877,\n         0.18727442, -0.14016639,  0.20581388,  0.37886569, -0.05106422,\n         0.08877116, -0.48316866],\n       [-0.24622616, -0.16679065,  0.38411996,  0.56142222, -0.08057639,\n         0.07770626, -0.56032499, -0.15940428,  0.15888017,  0.14977131,\n        -0.12141823,  0.18571246],\n       [-0.20338653,  0.13903697, -0.25717454,  0.30560237,  0.17955085,\n         0.64048657,  0.05329093, -0.20634271, -0.48711826, -0.11400784,\n         0.15400657, -0.13376208],\n       [-0.33588555,  0.38940796, -0.04130676, -0.21612337, -0.25078443,\n         0.20277055, -0.10068628,  0.40400217, -0.07311788, -0.1999899 ,\n        -0.38678571,  0.46348376],\n       [-0.31904534,  0.15415096, -0.42317431, -0.25878534, -0.31265926,\n         0.0033482 , -0.17063542, -0.31651643,  0.15232651,  0.59767007,\n         0.03406345, -0.14057697],\n       [-0.29378835, -0.01209761, -0.4974931 ,  0.0981976 ,  0.44367833,\n        -0.40432699, -0.14023865, -0.23287464,  0.17519926, -0.38918114,\n        -0.07468833,  0.18557094],\n       [-0.23466553, -0.38026789, -0.27213261,  0.13845422, -0.32772779,\n         0.07673396, -0.02633737,  0.47739317,  0.21780083, -0.18262296,\n         0.53150318, -0.04390019],\n       [-0.32759171,  0.21858779,  0.17721046,  0.18485984,  0.25862832,\n        -0.34480789,  0.2943058 ,  0.21981227, -0.26200323,  0.42529567,\n         0.35775064,  0.28478816]])"
     },
     "metadata": {},
     "execution_count": 6
    }
   ],
   "source": [
    "data = np.array(\n",
    "    [[0.86241934, 0.5866574, 0.94415351, 0.95913979, 0.57817677, 0.07278982, 0.28534244,\n",
    "        0.38991106, 0.48926299, 0.77889176, 0.58739383, 0.58562396],\n",
    "    [0.69579187, 0.8184742, 0.95403868, 0.70009981, 0.72863983, 0.87054734, 0.00700839,\n",
    "        0.51955805, 0.24494876, 0.00913428, 0.62315273, 0.74775413],\n",
    "    [0.0376125, 0.63047029, 0.62685091, 0.1867411, 0.96285834, 0.09739992, 0.36992739,\n",
    "        0.83374358, 0.86656391, 0.61512142, 0.01648683, 0.83992228],\n",
    "    [0.22468401, 0.85168212, 0.59572482, 0.36909552, 0.28382396, 0.46474211, 0.50741494,\n",
    "        0.77482981, 0.90446926, 0.55446397, 0.87251927, 0.2390214],\n",
    "    [0.83727052, 0.8552703, 0.77537903, 0.06745897, 0.5784097, 0.56597316, 0.00725802,\n",
    "        0.76099983, 0.9385663, 0.84593431, 0.5087011, 0.78185199],\n",
    "    [0.17423635, 0.85732904, 0.09456392, 0.18200017, 0.58213928, 0.21300842, 0.80850167,\n",
    "        0.95509432, 0.83585875, 0.96105367, 0.56022622, 0.91146054],\n",
    "    [0.70928634, 0.15909755, 0.80498221, 0.35396237, 0.9612137, 0.22607597, 0.47827131,\n",
    "        0.9842321, 0.83937253, 0.34454389, 0.34726802, 0.32151192],\n",
    "    [0.64144357, 0.44658854, 0.29396261, 0.88095878, 0.29533763, 0.79838997, 0.66401749,\n",
    "        0.1232656, 0.58186345, 0.88852325, 0.77762592, 0.42800054],\n",
    "    [0.23381297, 0.39105056, 0.38818798, 0.14727913, 0.91586005, 0.70422632, 0.25997505,\n",
    "        0.4047002, 0.02457386, 0.57705152, 0.08427544, 0.63041667],\n",
    "    [0.19091217, 0.9578817, 0.83071261, 0.09907552, 0.73015429, 0.89125735, 0.62325908,\n",
    "        0.70676938, 0.30811692, 0.11942618, 0.09728838, 0.85793685]]\n",
    ")\n",
    "np.linalg.svd(data)[2].T"
   ]
  },
  {
   "cell_type": "code",
   "execution_count": null,
   "metadata": {},
   "outputs": [],
   "source": []
  },
  {
   "cell_type": "markdown",
   "metadata": {},
   "source": [
    "### Permutation matrix"
   ]
  },
  {
   "cell_type": "code",
   "execution_count": 2,
   "metadata": {
    "tags": []
   },
   "outputs": [
    {
     "output_type": "stream",
     "name": "stdout",
     "text": "[[2 3 1 4]\n [2 3 1 4]\n [2 3 1 4]]\n\n[[3 3 3]\n [1 1 1]\n [2 2 2]\n [4 4 4]]\n"
    }
   ],
   "source": [
    "import numpy as np\n",
    "\n",
    "data = np.array(\n",
    "    [[1, 1, 1],\n",
    "     [2, 2, 2],\n",
    "     [3, 3, 3],\n",
    "     [4, 4, 4]])\n",
    "\n",
    "perm = np.array(\n",
    "    [[0, 0, 1, 0],\n",
    "     [1, 0, 0, 0],\n",
    "     [0, 1, 0, 0],\n",
    "     [0, 0, 0, 1]]\n",
    ")\n",
    "\n",
    "print(np.dot(data.T, perm))\n",
    "print()\n",
    "print(np.dot(perm, data))"
   ]
  },
  {
   "cell_type": "code",
   "execution_count": 11,
   "metadata": {
    "tags": []
   },
   "outputs": [
    {
     "output_type": "stream",
     "name": "stdout",
     "text": "[[ 0  2  0]\n [ 0  0  1]\n [-1  0  0]]\n\n[[ 2  0  0]\n [ 0  1  0]\n [ 0  0 -1]]\n"
    }
   ],
   "source": [
    "data = np.array(\n",
    "    [[-1, 0, 0],\n",
    "     [0, 2, 0],\n",
    "     [0, 0, 1]]\n",
    ")\n",
    "\n",
    "perm_row = np.array(\n",
    "    [[0, 1, 0],\n",
    "     [0, 0, 1],\n",
    "     [1, 0, 0]]\n",
    ")\n",
    "\n",
    "perm_col = np.array( # same as perm_row.T\n",
    "    [[0, 0, 1],\n",
    "     [1, 0, 0],\n",
    "     [0, 1, 0]]\n",
    ")\n",
    "\n",
    "row_sort = np.dot(perm_row, data)\n",
    "print(row_sort)\n",
    "print()\n",
    "col_sort = np.dot(row_sort, perm_col)\n",
    "print(col_sort)"
   ]
  },
  {
   "cell_type": "code",
   "execution_count": 31,
   "metadata": {
    "tags": []
   },
   "outputs": [
    {
     "output_type": "stream",
     "name": "stdout",
     "text": "[[ 60  60  60]\n [120 120 120]\n [180 180 180]\n [240 240 240]]\n\n[[ 2  0  0]\n [ 0  1  0]\n [ 0  0 -1]\n [ 0  0  0]]\n\n[[2 2 2 2]\n [3 3 3 3]\n [1 1 1 1]\n [4 4 4 4]]\n\n[[20 20 20]\n [30 30 30]\n [10 10 10]]\n\n[[120 120 120]\n [180 180 180]\n [ 60  60  60]\n [240 240 240]]\n"
    }
   ],
   "source": [
    "# non-square matrices\n",
    "u = np.array(\n",
    "    [[1, 1, 1, 1],\n",
    "     [2, 2, 2, 2],\n",
    "     [3, 3, 3, 3],\n",
    "     [4, 4, 4, 4]]\n",
    ")\n",
    "\n",
    "s = np.array(\n",
    "    [[-1, 0, 0],\n",
    "     [0, 2, 0],\n",
    "     [0, 0, 1],\n",
    "     [0, 0, 0]]\n",
    ")\n",
    "\n",
    "s_cor = np.array(\n",
    "    [[2, 0, 0],\n",
    "     [0, 1, 0],\n",
    "     [0, 0, -1],\n",
    "     [0, 0, 0]]\n",
    ")\n",
    "\n",
    "v = np.array(\n",
    "    [[10, 10, 10],\n",
    "     [20, 20, 20],\n",
    "     [30, 30, 30]]\n",
    ")\n",
    "\n",
    "print(u.dot(s).dot(v))\n",
    "print()\n",
    "\n",
    "perm_row = np.array(\n",
    "    [[0, 1, 0, 0],\n",
    "     [0, 0, 1, 0],\n",
    "     [1, 0, 0, 0],\n",
    "     [0, 0, 0, 1]]\n",
    ")\n",
    "perm_col = np.array(\n",
    "    [[0, 0, 1],\n",
    "     [1, 0, 0],\n",
    "     [0, 1, 0]]\n",
    ")\n",
    "\n",
    "u_perm = np.dot(perm_row, u).dot(perm_row.T)\n",
    "print(s_perm)\n",
    "print()\n",
    "\n",
    "s_perm = np.dot(perm_row, s).dot(perm_col)\n",
    "print(u_perm)\n",
    "print()\n",
    "\n",
    "v_perm = np.dot(perm_col.T, v).dot(perm_col)\n",
    "print(v_perm)\n",
    "print()\n",
    "\n",
    "print(np.dot(u_perm, s_perm).dot(v_perm))"
   ]
  },
  {
   "cell_type": "code",
   "execution_count": null,
   "metadata": {},
   "outputs": [],
   "source": []
  }
 ],
 "metadata": {
  "language_info": {
   "codemirror_mode": {
    "name": "ipython",
    "version": 3
   },
   "file_extension": ".py",
   "mimetype": "text/x-python",
   "name": "python",
   "nbconvert_exporter": "python",
   "pygments_lexer": "ipython3",
   "version": "3.8.3-final"
  },
  "orig_nbformat": 2,
  "kernelspec": {
   "name": "python38364bitpytfconda2cdcc9a0a13e4c058770eaff642ef9e1",
   "display_name": "Python 3.8.3 64-bit ('pytf': conda)"
  }
 },
 "nbformat": 4,
 "nbformat_minor": 2
}