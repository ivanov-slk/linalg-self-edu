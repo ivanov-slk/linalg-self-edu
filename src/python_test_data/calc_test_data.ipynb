{
 "cells": [
  {
   "cell_type": "code",
   "execution_count": 1,
   "metadata": {
    "tags": []
   },
   "outputs": [
    {
     "output_type": "stream",
     "name": "stdout",
     "text": "2.2.0\n"
    }
   ],
   "source": [
    "import tensorflow as tf\n",
    "\n",
    "print(tf.__version__)"
   ]
  },
  {
   "cell_type": "markdown",
   "metadata": {},
   "source": [
    "### (AB)^T = A^T * B^T# (AB)^T = A^T * B^T"
   ]
  },
  {
   "cell_type": "code",
   "execution_count": 9,
   "metadata": {},
   "outputs": [],
   "source": [
    "a = tf.constant([1.2, 3.4, -5.7, -5.3, 8.7, 4.127], shape=(2, 3))\n",
    "\n",
    "b = tf.constant([34.5, 234.34, 876.43, -5.1243, -675.234, 54.2], shape=(3, 2))"
   ]
  },
  {
   "cell_type": "code",
   "execution_count": 10,
   "metadata": {
    "tags": []
   },
   "outputs": [
    {
     "output_type": "stream",
     "name": "stdout",
     "text": "tf.Tensor(\n[[ 6870.0957    4655.4004  ]\n [  -45.154602 -1062.9001  ]], shape=(2, 2), dtype=float32)\ntf.Tensor(\n[[ 6870.0957    4655.4004  ]\n [  -45.154602 -1062.9001  ]], shape=(2, 2), dtype=float32)\n"
    }
   ],
   "source": [
    "abt = tf.transpose(tf.matmul(a, b))\n",
    "atbt = tf.matmul(tf.transpose(b), tf.transpose(a))\n",
    "print(abt)\n",
    "print(atbt)"
   ]
  },
  {
   "cell_type": "markdown",
   "metadata": {},
   "source": [
    "### Norms"
   ]
  },
  {
   "cell_type": "code",
   "execution_count": 11,
   "metadata": {
    "tags": []
   },
   "outputs": [
    {
     "output_type": "stream",
     "name": "stdout",
     "text": "tf.Tensor(12.1, shape=(), dtype=float32)\ntf.Tensor(12.895818, shape=(), dtype=float32)\n"
    }
   ],
   "source": [
    "print(tf.norm(a, ord=1, axis=(0, 1)))\n",
    "print(tf.norm(a, ord='fro', axis=(0, 1)))"
   ]
  },
  {
   "cell_type": "code",
   "execution_count": 12,
   "metadata": {
    "tags": []
   },
   "outputs": [
    {
     "output_type": "stream",
     "name": "stdout",
     "text": "tf.Tensor(28.427, shape=(), dtype=float32)\ntf.Tensor(12.895818, shape=(), dtype=float32)\n"
    }
   ],
   "source": [
    "a1 = tf.constant([1.2, 3.4, -5.7, -5.3, 8.7, 4.127], shape=(1, 6))\n",
    "print(tf.norm(a1, ord=1))\n",
    "print(tf.norm(a1))"
   ]
  },
  {
   "cell_type": "code",
   "execution_count": 13,
   "metadata": {
    "tags": []
   },
   "outputs": [
    {
     "output_type": "stream",
     "name": "stdout",
     "text": "tf.Tensor(1879.8284, shape=(), dtype=float32)\ntf.Tensor(1132.7577, shape=(), dtype=float32)\n"
    }
   ],
   "source": [
    "b1 = tf.constant([34.5, 234.34, 876.43, -5.1243, -675.234, 54.2], shape=(6, 1))\n",
    "# print(tf.norm(b, ord=1, axis=(0, 1)))\n",
    "# print(tf.norm(b, ord='fro', axis=(0, 1)))\n",
    "print(tf.norm(b1, ord=1))\n",
    "print(tf.norm(b1))"
   ]
  },
  {
   "cell_type": "markdown",
   "metadata": {},
   "source": [
    "### QR Decomposition"
   ]
  },
  {
   "cell_type": "markdown",
   "metadata": {},
   "source": [
    "#### square matrix 3x3"
   ]
  },
  {
   "cell_type": "code",
   "execution_count": 14,
   "metadata": {
    "tags": []
   },
   "outputs": [
    {
     "output_type": "stream",
     "name": "stdout",
     "text": "Qr(q=<tf.Tensor: shape=(3, 3), dtype=float64, numpy=\narray([[-0.85714286,  0.39428571,  0.33142857],\n       [-0.42857143, -0.90285714, -0.03428571],\n       [ 0.28571429, -0.17142857,  0.94285714]])>, r=<tf.Tensor: shape=(3, 3), dtype=float64, numpy=\narray([[ -14.,  -21.,   14.],\n       [   0., -175.,   70.],\n       [   0.,    0.,  -35.]])>)\n"
    }
   ],
   "source": [
    "qr_data = tf.constant([12, -51, 4, 6, 167, -68, -4, 24, -41], shape=(3, 3))\n",
    "qr_data = tf.cast(qr_data, tf.float64)\n",
    "print(tf.linalg.qr(qr_data))"
   ]
  },
  {
   "cell_type": "markdown",
   "metadata": {},
   "source": [
    "Non-square matrix 4x3"
   ]
  },
  {
   "cell_type": "code",
   "execution_count": 15,
   "metadata": {
    "tags": []
   },
   "outputs": [
    {
     "output_type": "stream",
     "name": "stdout",
     "text": "Qr(q=<tf.Tensor: shape=(4, 3), dtype=float64, numpy=\narray([[-0.69748583,  0.29906048, -0.36166072],\n       [-0.34874292, -0.93281644,  0.02962909],\n       [ 0.23249528, -0.13904489, -0.93080449],\n       [-0.58123819,  0.14519933,  0.04389362]])>, r=<tf.Tensor: shape=(3, 3), dtype=float64, numpy=\narray([[ -17.20465053,   -3.13868625,    6.74236305],\n       [   0.        , -177.8542905 ,   71.4901946 ],\n       [   0.        ,    0.        ,   35.05271198]])>)\n"
    }
   ],
   "source": [
    "qr_data_r = tf.constant([12, -51, 4, 6, 167, -68, -4, 24, -41, 10, -24, 8],\n",
    "                        shape=(4, 3))\n",
    "qr_data_r = tf.cast(qr_data_r, tf.float64)\n",
    "print(tf.linalg.qr(qr_data_r))"
   ]
  },
  {
   "cell_type": "markdown",
   "metadata": {},
   "source": [
    "Non-square matrix 3x4"
   ]
  },
  {
   "cell_type": "code",
   "execution_count": 16,
   "metadata": {
    "tags": []
   },
   "outputs": [
    {
     "output_type": "stream",
     "name": "stdout",
     "text": "Qr(q=<tf.Tensor: shape=(3, 3), dtype=float64, numpy=\narray([[-0.06961466,  0.9878042 , -0.13927189],\n       [-0.96880397, -0.03365772,  0.24553211],\n       [ 0.23785008,  0.1520198 ,  0.95933171]])>, r=<tf.Tensor: shape=(3, 4), dtype=float64, numpy=\narray([[-172.37749273,   71.80751851,   -2.11164459,  -21.7661827 ],\n       [   0.        ,  -46.56909152,    0.43737254,    6.33519837],\n       [   0.        ,    0.        ,  -24.56317696,   12.73179297]])>)\n"
    }
   ],
   "source": [
    "qr_data_r = tf.constant([12, -51, 4, 6, 167, -68, -4, 24, -41, 10, -24, 8],\n",
    "                        shape=(3, 4))\n",
    "qr_data_r = tf.cast(qr_data_r, tf.float64)\n",
    "print(tf.linalg.qr(qr_data_r))"
   ]
  },
  {
   "cell_type": "code",
   "execution_count": 8,
   "metadata": {},
   "outputs": [],
   "source": [
    "\n"
   ]
  },
  {
   "cell_type": "code",
   "execution_count": null,
   "metadata": {},
   "outputs": [],
   "source": []
  }
 ],
 "metadata": {
  "language_info": {
   "codemirror_mode": {
    "name": "ipython",
    "version": 3
   },
   "file_extension": ".py",
   "mimetype": "text/x-python",
   "name": "python",
   "nbconvert_exporter": "python",
   "pygments_lexer": "ipython3",
   "version": "3.8.3-final"
  },
  "orig_nbformat": 2,
  "kernelspec": {
   "name": "python38364bitpytfconda2cdcc9a0a13e4c058770eaff642ef9e1",
   "display_name": "Python 3.8.3 64-bit ('pytf': conda)"
  }
 },
 "nbformat": 4,
 "nbformat_minor": 2
}