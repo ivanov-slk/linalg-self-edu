{
 "cells": [
  {
   "cell_type": "code",
   "execution_count": 1,
   "metadata": {
    "tags": []
   },
   "outputs": [
    {
     "output_type": "stream",
     "name": "stdout",
     "text": "2.2.0\n"
    }
   ],
   "source": [
    "import tensorflow as tf\n",
    "\n",
    "print(tf.__version__)"
   ]
  },
  {
   "cell_type": "markdown",
   "metadata": {},
   "source": [
    "### (AB)^T = A^T * B^T# (AB)^T = A^T * B^T"
   ]
  },
  {
   "cell_type": "code",
   "execution_count": 9,
   "metadata": {},
   "outputs": [],
   "source": [
    "a = tf.constant([1.2, 3.4, -5.7, -5.3, 8.7, 4.127], shape=(2, 3))\n",
    "\n",
    "b = tf.constant([34.5, 234.34, 876.43, -5.1243, -675.234, 54.2], shape=(3, 2))"
   ]
  },
  {
   "cell_type": "code",
   "execution_count": 10,
   "metadata": {
    "tags": []
   },
   "outputs": [
    {
     "output_type": "stream",
     "name": "stdout",
     "text": "tf.Tensor(\n[[ 6870.0957    4655.4004  ]\n [  -45.154602 -1062.9001  ]], shape=(2, 2), dtype=float32)\ntf.Tensor(\n[[ 6870.0957    4655.4004  ]\n [  -45.154602 -1062.9001  ]], shape=(2, 2), dtype=float32)\n"
    }
   ],
   "source": [
    "abt = tf.transpose(tf.matmul(a, b))\n",
    "atbt = tf.matmul(tf.transpose(b), tf.transpose(a))\n",
    "print(abt)\n",
    "print(atbt)"
   ]
  },
  {
   "cell_type": "markdown",
   "metadata": {},
   "source": [
    "### Norms"
   ]
  },
  {
   "cell_type": "code",
   "execution_count": 11,
   "metadata": {
    "tags": []
   },
   "outputs": [
    {
     "output_type": "stream",
     "name": "stdout",
     "text": "tf.Tensor(12.1, shape=(), dtype=float32)\ntf.Tensor(12.895818, shape=(), dtype=float32)\n"
    }
   ],
   "source": [
    "print(tf.norm(a, ord=1, axis=(0, 1)))\n",
    "print(tf.norm(a, ord='fro', axis=(0, 1)))"
   ]
  },
  {
   "cell_type": "code",
   "execution_count": 12,
   "metadata": {
    "tags": []
   },
   "outputs": [
    {
     "output_type": "stream",
     "name": "stdout",
     "text": "tf.Tensor(28.427, shape=(), dtype=float32)\ntf.Tensor(12.895818, shape=(), dtype=float32)\n"
    }
   ],
   "source": [
    "a1 = tf.constant([1.2, 3.4, -5.7, -5.3, 8.7, 4.127], shape=(1, 6))\n",
    "print(tf.norm(a1, ord=1))\n",
    "print(tf.norm(a1))"
   ]
  },
  {
   "cell_type": "code",
   "execution_count": 13,
   "metadata": {
    "tags": []
   },
   "outputs": [
    {
     "output_type": "stream",
     "name": "stdout",
     "text": "tf.Tensor(1879.8284, shape=(), dtype=float32)\ntf.Tensor(1132.7577, shape=(), dtype=float32)\n"
    }
   ],
   "source": [
    "b1 = tf.constant([34.5, 234.34, 876.43, -5.1243, -675.234, 54.2], shape=(6, 1))\n",
    "# print(tf.norm(b, ord=1, axis=(0, 1)))\n",
    "# print(tf.norm(b, ord='fro', axis=(0, 1)))\n",
    "print(tf.norm(b1, ord=1))\n",
    "print(tf.norm(b1))"
   ]
  },
  {
   "cell_type": "code",
   "execution_count": 33,
   "metadata": {
    "tags": []
   },
   "outputs": [
    {
     "output_type": "stream",
     "name": "stdout",
     "text": "tf.Tensor(22365.152, shape=(), dtype=float32)\n"
    }
   ],
   "source": [
    "print(tf.norm(tf.constant([10000., 10001., 10002.,10003.,10004.])))"
   ]
  },
  {
   "cell_type": "code",
   "execution_count": 25,
   "metadata": {
    "tags": []
   },
   "outputs": [
    {
     "output_type": "stream",
     "name": "stdout",
     "text": "tf.Tensor(\n[[ 1.  2.  3.  4.]\n [ 5.  6.  7.  8.]\n [ 9. 10. 11. 12.]\n [13. 14. 15. 16.]], shape=(4, 4), dtype=float32)\ntf.Tensor(\n[[ -1.  -2.  -3.]\n [ -4.  -5.  -6.]\n [ -7.  -8.  -9.]\n [-10. -11. -12.]], shape=(4, 3), dtype=float32)\n\ntf.Tensor(\n[[ -70.  -80.  -90.]\n [-158. -184. -210.]\n [-246. -288. -330.]\n [-334. -392. -450.]], shape=(4, 3), dtype=float32)\n"
    }
   ],
   "source": [
    "a2 = tf.constant([1., 2., 3., 4., 5., 6., 7., 8., 9., 10., 11., 12., 13., 14., 15., 16.], shape=(4, 4))\n",
    "b2 = tf.constant([-1., -2., -3., -4., -5., -6., -7., -8., -9., -10., -11., -12.], shape=(4, 3))\n",
    "print(a2)\n",
    "print(b2)\n",
    "print()\n",
    "print(tf.matmul(a2, b2))"
   ]
  },
  {
   "cell_type": "markdown",
   "metadata": {},
   "source": [
    "### QR Decomposition"
   ]
  },
  {
   "cell_type": "markdown",
   "metadata": {},
   "source": [
    "#### square matrix 3x3"
   ]
  },
  {
   "cell_type": "code",
   "execution_count": 31,
   "metadata": {
    "tags": []
   },
   "outputs": [
    {
     "output_type": "stream",
     "name": "stdout",
     "text": "Qr(q=<tf.Tensor: shape=(3, 3), dtype=float64, numpy=\narray([[-0.85714286,  0.39428571,  0.33142857],\n       [-0.42857143, -0.90285714, -0.03428571],\n       [ 0.28571429, -0.17142857,  0.94285714]])>, r=<tf.Tensor: shape=(3, 3), dtype=float64, numpy=\narray([[ -14.,  -21.,   14.],\n       [   0., -175.,   70.],\n       [   0.,    0.,  -35.]])>)\n"
    }
   ],
   "source": [
    "qr_data = tf.constant([12, -51, 4, 6, 167, -68, -4, 24, -41], shape=(3, 3))\n",
    "qr_data = tf.cast(qr_data, tf.float64)\n",
    "print(tf.linalg.qr(qr_data, 1))"
   ]
  },
  {
   "cell_type": "markdown",
   "metadata": {},
   "source": [
    "Non-square matrix 4x3"
   ]
  },
  {
   "cell_type": "code",
   "execution_count": 32,
   "metadata": {
    "tags": []
   },
   "outputs": [
    {
     "output_type": "stream",
     "name": "stdout",
     "text": "tf.Tensor(\n[[ 12. -51.   4.]\n [  6. 167. -68.]\n [ -4.  24. -41.]\n [ 10. -24.   8.]], shape=(4, 3), dtype=float64)\nQr(q=<tf.Tensor: shape=(4, 4), dtype=float64, numpy=\narray([[-0.69748583,  0.29906048, -0.36166072, -0.54155135],\n       [-0.34874292, -0.93281644,  0.02962909, -0.08575542],\n       [ 0.23249528, -0.13904489, -0.93080449,  0.24538842],\n       [-0.58123819,  0.14519933,  0.04389362,  0.79947024]])>, r=<tf.Tensor: shape=(4, 3), dtype=float64, numpy=\narray([[ -17.20465053,   -3.13868625,    6.74236305],\n       [   0.        , -177.8542905 ,   71.4901946 ],\n       [   0.        ,    0.        ,   35.05271198],\n       [   0.        ,    0.        ,    0.        ]])>)\ntf.Tensor(\n[[ 12. -51.   4.]\n [  6. 167. -68.]\n [ -4.  24. -41.]\n [ 10. -24.   8.]], shape=(4, 3), dtype=float64)\n"
    }
   ],
   "source": [
    "qr_data_r = tf.constant([12, -51, 4, 6, 167, -68, -4, 24, -41, 10, -24, 8],\n",
    "                        shape=(4, 3))\n",
    "qr_data_r = tf.cast(qr_data_r, tf.float64)\n",
    "print(qr_data_r)\n",
    "qr_result = tf.linalg.qr(qr_data_r, 1)\n",
    "print(qr_result)\n",
    "print(tf.matmul(qr_result[0], qr_result[1])) #rounded"
   ]
  },
  {
   "cell_type": "markdown",
   "metadata": {},
   "source": [
    "Non-square matrix 3x4"
   ]
  },
  {
   "cell_type": "code",
   "execution_count": 28,
   "metadata": {
    "tags": []
   },
   "outputs": [
    {
     "output_type": "stream",
     "name": "stdout",
     "text": "tf.Tensor(\n[[ 12. -51.   4.   6.]\n [167. -68.  -4.  24.]\n [-41.  10. -24.   8.]], shape=(3, 4), dtype=float64)\nQr(q=<tf.Tensor: shape=(3, 3), dtype=float64, numpy=\narray([[-0.06961466,  0.9878042 , -0.13927189],\n       [-0.96880397, -0.03365772,  0.24553211],\n       [ 0.23785008,  0.1520198 ,  0.95933171]])>, r=<tf.Tensor: shape=(3, 4), dtype=float64, numpy=\narray([[-172.37749273,   71.80751851,   -2.11164459,  -21.7661827 ],\n       [   0.        ,  -46.56909152,    0.43737254,    6.33519837],\n       [   0.        ,    0.        ,  -24.56317696,   12.73179297]])>)\n"
    }
   ],
   "source": [
    "qr_data_c = tf.constant([12, -51, 4, 6, 167, -68, -4, 24, -41, 10, -24, 8],\n",
    "                        shape=(3, 4))\n",
    "qr_data_c = tf.cast(qr_data_c, tf.float64)\n",
    "print(qr_data_c)\n",
    "print(tf.linalg.qr(qr_data_c, 1))"
   ]
  },
  {
   "cell_type": "code",
   "execution_count": null,
   "metadata": {},
   "outputs": [],
   "source": []
  },
  {
   "cell_type": "code",
   "execution_count": 7,
   "metadata": {
    "tags": []
   },
   "outputs": [
    {
     "output_type": "stream",
     "name": "stdout",
     "text": "On iter 0 [[-17.2  -3.1   6.7]\n [  0.  176.8 -67.4]\n [  0.   17.4 -41.4]\n [  0.   -7.6   8.9]]\n++++++++++++++++++++++++++++++++++++++++++++++++\n[[-1.72046505e+01 -3.13868625e+00  6.74236305e+00]\n [ 1.11022302e-15  1.76832950e+02 -6.74365905e+01]\n [ 0.00000000e+00  1.74446997e+01 -4.13756063e+01]\n [ 0.00000000e+00 -7.61174920e+00  8.93901587e+00]]\n-------------\n[[-0.69748583 -0.34874292  0.23249528 -0.58123819]\n [-0.34874292  0.92835191  0.04776539 -0.11941349]\n [ 0.23249528  0.04776539  0.9681564   0.07960899]\n [-0.58123819 -0.11941349  0.07960899  0.80097752]]\nOn iter 1 [[ -17.2   -3.1    6.7]\n [  -0.  -177.9   71.5]\n [  -0.    -0.   -34.5]\n [   0.     0.     6. ]]\n++++++++++++++++++++++++++++++++++++++++++++++++\n[[-1.72046505e+01 -3.13868625e+00  6.74236305e+00]\n [-1.10384750e-15 -1.77854290e+02  7.14901946e+01]\n [-1.08895361e-16 -3.62904151e-15 -3.45427244e+01]\n [ 4.75149584e-17  8.88178420e-16  5.95758400e+00]]\n-------------\n[[ 1.          0.          0.          0.        ]\n [ 0.         -0.99425743 -0.09808422  0.04279767]\n [ 0.         -0.09808422  0.99517589  0.00210493]\n [ 0.          0.04279767  0.00210493  0.99908154]]\nOn iter 2 [[ -17.2   -3.1    6.7]\n [  -0.  -177.9   71.5]\n [   0.     0.    35.1]\n [   0.     0.    -0. ]]\n++++++++++++++++++++++++++++++++++++++++++++++++\n[[-1.72046505e+01 -3.13868625e+00  6.74236305e+00]\n [-1.10384750e-15 -1.77854290e+02  7.14901946e+01]\n [ 1.15386702e-16  3.72719744e-15  3.50527120e+01]\n [ 2.83157221e-17  2.58461677e-16 -1.77635684e-15]]\n-------------\n[[ 1.          0.          0.          0.        ]\n [ 0.          1.          0.          0.        ]\n [ 0.          0.         -0.98545084  0.16996072]\n [ 0.          0.          0.16996072  0.98545084]]\n[[-0.69748583  0.29906048 -0.36166072 -0.54155135]\n [-0.34874292 -0.93281644  0.02962909 -0.08575542]\n [ 0.23249528 -0.13904489 -0.93080449  0.24538842]\n [-0.58123819  0.14519933  0.04389362  0.79947024]]\n[[-1.72046505e+01 -3.13868625e+00  6.74236305e+00]\n [-1.10384750e-15 -1.77854290e+02  7.14901946e+01]\n [ 1.15386702e-16  3.72719744e-15  3.50527120e+01]\n [ 2.83157221e-17  2.58461677e-16 -1.77635684e-15]]\nSum:  1.6076029396572267e-13\n"
    }
   ],
   "source": [
    "import numpy as np\n",
    "\n",
    "def householder(A):\n",
    "    \"\"\"     \n",
    "        Args:\n",
    "        -   A: A n-d numpy array of shape (n,n) \n",
    "\n",
    "        Returns:\n",
    "        -   P: A n-d numpy array of shape (n,n), representing \n",
    "                a Householder matrix\n",
    "    \"\"\"\n",
    "    n, _ = A.shape\n",
    "    x = A[:,0].reshape(n,1)\n",
    "    e1 = np.zeros((n,1))\n",
    "    e1[0] = 1.\n",
    "    v = np.sign(x[0]) * np.linalg.norm(x) * e1 + x\n",
    "    # divide by 2-norm squared\n",
    "    P = np.eye(n) - 2 * v.dot(v.T)/v.T.dot(v)\n",
    "    return P\n",
    "\n",
    "def qr_decomposition(A):\n",
    "    \"\"\" \n",
    "    Form the QR decomposition of A by using\n",
    "    Householder matrices.\n",
    "    \"\"\"\n",
    "    n, _ = A.shape\n",
    "    P = np.zeros((n-1,n,n))\n",
    "    R = A\n",
    "    for i in range(n-1):\n",
    "\n",
    "        P[i] = np.eye(n)\n",
    "        # modify lower-right block\n",
    "        P[i,i:,i:] = householder(R[i:,i:])\n",
    "        print(f'On iter {i}', np.round(P[i].dot(R), 1))\n",
    "        R = P[i].dot(R)\n",
    "\n",
    "    Q_T = np.eye(n)\n",
    "    for i in range(n-1):\n",
    "        Q_T = P[i].dot(Q_T)\n",
    "\n",
    "    Q = Q_T.T\n",
    "    return Q, R\n",
    "\n",
    "def qr_decomposition(A):\n",
    "    \"\"\" \n",
    "    Form the QR decomposition of A by using\n",
    "    Householder matrices.\n",
    "    \"\"\"\n",
    "    n, _ = A.shape\n",
    "    P = np.zeros((n-1,n,n))\n",
    "    R = A\n",
    "    for i in range(n-1):\n",
    "        print('>>>>>>>>>>>>>>>>>>>>>>>>>>>>>>>>>>>>>>>>>>>>>>>>>>')\n",
    "        P[i] = np.eye(n)\n",
    "        # modify lower-right block\n",
    "        P[i,i:,i:] = householder(R[i:,i:])\n",
    "        print(f'On iter {i}', np.round(P[i].dot(R), 1))\n",
    "        R = P[i].dot(R)\n",
    "        print('++++++++++++++++++++++++++++++++++++++++++++++++')\n",
    "        print(R)\n",
    "        print('-------------')\n",
    "        print(P[i])\n",
    "        print('<<<<<<<<<<<<<<<<<<<<<<<<<<<<<<<<<<<<<<<<<<<<<<<<<<\\n\\n')\n",
    "\n",
    "    Q_T = np.eye(n)\n",
    "    for i in range(n-1):\n",
    "        Q_T = P[i].dot(Q_T)\n",
    "\n",
    "    Q = Q_T.T\n",
    "    return Q, R\n",
    "\n",
    "def qr_demo():\n",
    "    \"\"\" \"\"\"\n",
    "    # n = 4\n",
    "    # A = np.random.randint(-100,100,(n,n))\n",
    "    # A = np.array([\n",
    "    #     [6, 6, -77, 59],\n",
    "    #     [-13, 20, -81, 1],\n",
    "    #     [-33, -35, -65, -74],\n",
    "    #     [98, 92, 42, 2]\n",
    "    # ])\n",
    "    A = np.array([\n",
    "        [12, -51, 4], \n",
    "        [6, 167, -68], \n",
    "        [-4, 24, -41], \n",
    "        [10, -24, 8]\n",
    "    ])\n",
    "\n",
    "    Q,R = qr_decomposition(A)\n",
    "    print(Q)\n",
    "    print(R)\n",
    "    QR = Q.dot(R)\n",
    "    print('Sum: ', np.absolute(A - QR).sum())\n",
    "    assert( (A - QR).sum() < 1e-10 )\n",
    "\n",
    "qr_demo()\n"
   ]
  },
  {
   "cell_type": "code",
   "execution_count": null,
   "metadata": {},
   "outputs": [],
   "source": []
  }
 ],
 "metadata": {
  "language_info": {
   "codemirror_mode": {
    "name": "ipython",
    "version": 3
   },
   "file_extension": ".py",
   "mimetype": "text/x-python",
   "name": "python",
   "nbconvert_exporter": "python",
   "pygments_lexer": "ipython3",
   "version": "3.8.3-final"
  },
  "orig_nbformat": 2,
  "kernelspec": {
   "name": "python38364bitpytfconda2cdcc9a0a13e4c058770eaff642ef9e1",
   "display_name": "Python 3.8.3 64-bit ('pytf': conda)"
  }
 },
 "nbformat": 4,
 "nbformat_minor": 2
}